{
 "cells": [
  {
   "cell_type": "markdown",
   "id": "5880a23d-122d-4654-ab9d-9f86c499b554",
   "metadata": {},
   "source": [
    "# Python Basics"
   ]
  },
  {
   "cell_type": "markdown",
   "id": "8233c735-8e4d-48eb-8101-6fe5c7dcb41f",
   "metadata": {},
   "source": [
    "## Variables"
   ]
  },
  {
   "cell_type": "code",
   "execution_count": null,
   "id": "82b38cae-47cb-47d0-bb67-3268ea60c45d",
   "metadata": {},
   "outputs": [],
   "source": [
    "x = 5"
   ]
  },
  {
   "cell_type": "code",
   "execution_count": null,
   "id": "b66b513a-ac11-4881-8b1f-e3055fc2cacd",
   "metadata": {},
   "outputs": [],
   "source": [
    "x"
   ]
  },
  {
   "cell_type": "code",
   "execution_count": null,
   "id": "1b361625-ebab-4549-92b2-e9e01440ced1",
   "metadata": {},
   "outputs": [],
   "source": [
    "y = 8"
   ]
  },
  {
   "cell_type": "code",
   "execution_count": null,
   "id": "bbf586b3-f736-432c-9df5-ca79ab89bf7a",
   "metadata": {},
   "outputs": [],
   "source": [
    "print(y)"
   ]
  },
  {
   "cell_type": "code",
   "execution_count": null,
   "id": "53a68bd6-fd17-4856-b3b6-ddbde0a21ea5",
   "metadata": {},
   "outputs": [],
   "source": [
    "x,y = (1,2)"
   ]
  },
  {
   "cell_type": "code",
   "execution_count": null,
   "id": "f711dea2-ffd8-4211-a41b-36127ed408c9",
   "metadata": {},
   "outputs": [],
   "source": [
    "x"
   ]
  },
  {
   "cell_type": "code",
   "execution_count": null,
   "id": "938cbb73-f27b-4f0f-8ea7-338015bb4b46",
   "metadata": {},
   "outputs": [],
   "source": [
    "y"
   ]
  },
  {
   "cell_type": "markdown",
   "id": "5d3c8c9b-3f3a-4d30-9fa0-2d59bf132caf",
   "metadata": {},
   "source": [
    "## Numbers and Boolean"
   ]
  },
  {
   "cell_type": "code",
   "execution_count": null,
   "id": "d5a316fb-1976-4c6d-822f-2914bb2b304c",
   "metadata": {},
   "outputs": [],
   "source": [
    "x1 = 5"
   ]
  },
  {
   "cell_type": "code",
   "execution_count": null,
   "id": "e6c2575a-7dc7-4483-8c64-348aa4334ce0",
   "metadata": {},
   "outputs": [],
   "source": [
    "type(x1)"
   ]
  },
  {
   "cell_type": "code",
   "execution_count": null,
   "id": "16304b40-9e81-454b-90c8-d701b3a0856c",
   "metadata": {},
   "outputs": [],
   "source": [
    "type(-6)"
   ]
  },
  {
   "cell_type": "code",
   "execution_count": null,
   "id": "448180d8-2f27-4c9c-8df9-f7c9bd0982e5",
   "metadata": {},
   "outputs": [],
   "source": [
    "x2 = 4.75"
   ]
  },
  {
   "cell_type": "code",
   "execution_count": null,
   "id": "86195e23-6d06-4714-84aa-0aee788d038b",
   "metadata": {},
   "outputs": [],
   "source": [
    "type(x2)"
   ]
  },
  {
   "cell_type": "code",
   "execution_count": null,
   "id": "349c04a7-caac-4a98-ab2f-88442f982c96",
   "metadata": {},
   "outputs": [],
   "source": [
    "int(x2)"
   ]
  },
  {
   "cell_type": "code",
   "execution_count": null,
   "id": "e6c3c52e-b050-4841-bdff-c8fbd9768bd5",
   "metadata": {},
   "outputs": [],
   "source": [
    "float(5)"
   ]
  },
  {
   "cell_type": "code",
   "execution_count": null,
   "id": "38de217c-8448-41a8-bf99-eb2fbd307430",
   "metadata": {},
   "outputs": [],
   "source": [
    "x3 = True"
   ]
  },
  {
   "cell_type": "code",
   "execution_count": null,
   "id": "7b5d1367-72ca-4a9c-aebb-02357b036308",
   "metadata": {},
   "outputs": [],
   "source": [
    "type(x3)"
   ]
  },
  {
   "cell_type": "markdown",
   "id": "30fa0b89-fabc-460a-b579-436f303ed058",
   "metadata": {},
   "source": [
    "## Strings"
   ]
  },
  {
   "cell_type": "code",
   "execution_count": null,
   "id": "5f9f0132-52e5-412b-a2b1-6638bbb926cc",
   "metadata": {},
   "outputs": [],
   "source": [
    "'George'"
   ]
  },
  {
   "cell_type": "code",
   "execution_count": null,
   "id": "c35d4ff9-10e5-42d5-8726-c61f7d6ad176",
   "metadata": {},
   "outputs": [],
   "source": [
    "\"George\""
   ]
  },
  {
   "cell_type": "code",
   "execution_count": null,
   "id": "263a84ca-af21-4827-ad56-6d47a1536f14",
   "metadata": {},
   "outputs": [],
   "source": [
    "print('George')"
   ]
  },
  {
   "cell_type": "code",
   "execution_count": null,
   "id": "c13cfd61-c340-430e-a681-270b9b8edbec",
   "metadata": {},
   "outputs": [],
   "source": [
    "x4 = 'George'"
   ]
  },
  {
   "cell_type": "code",
   "execution_count": null,
   "id": "67e5886c-d732-4bb9-a729-2f3838c4d59c",
   "metadata": {},
   "outputs": [],
   "source": [
    "x4"
   ]
  },
  {
   "cell_type": "code",
   "execution_count": null,
   "id": "6098f698-710c-451c-88d7-4c3243922280",
   "metadata": {},
   "outputs": [],
   "source": [
    "y = 10\n",
    "print(f\"{y} Dollars\")"
   ]
  },
  {
   "cell_type": "code",
   "execution_count": null,
   "id": "ea3caf84-a1b3-4ea7-bbab-5916877c30c4",
   "metadata": {},
   "outputs": [],
   "source": [
    "\"I'm fine\""
   ]
  },
  {
   "cell_type": "code",
   "execution_count": null,
   "id": "4bd1ee82-ca54-4f21-a2a0-5342ee537444",
   "metadata": {},
   "outputs": [],
   "source": [
    "'I\\'m fine'"
   ]
  },
  {
   "cell_type": "code",
   "execution_count": null,
   "id": "e4a0e618-d7da-46d7-8caa-5d509a7bc498",
   "metadata": {},
   "outputs": [],
   "source": [
    "'Press \"Enter\"'"
   ]
  },
  {
   "cell_type": "code",
   "execution_count": null,
   "id": "63d9437a-4a60-447e-8ec1-55979beb7c3d",
   "metadata": {},
   "outputs": [],
   "source": [
    "'Red ' 'Car'"
   ]
  },
  {
   "cell_type": "code",
   "execution_count": null,
   "id": "29b2824d-e26d-4403-8c69-ab19a1695a53",
   "metadata": {},
   "outputs": [],
   "source": [
    "'Red ' + 'car'"
   ]
  },
  {
   "cell_type": "code",
   "execution_count": null,
   "id": "526723ad-3dd2-48d6-b470-f11cda485443",
   "metadata": {},
   "outputs": [],
   "source": [
    "print('Red ' + 'car')"
   ]
  },
  {
   "cell_type": "code",
   "execution_count": null,
   "id": "2b10a0e6-b549-4791-8811-afc8a60d2c95",
   "metadata": {},
   "outputs": [],
   "source": [
    "print('Red', 'car')"
   ]
  },
  {
   "cell_type": "code",
   "execution_count": null,
   "id": "f92e5804-7821-4921-bd62-e52192b5090a",
   "metadata": {},
   "outputs": [],
   "source": [
    "print(3, 5)"
   ]
  },
  {
   "cell_type": "markdown",
   "id": "2d89a68d-9cd7-45e0-8c61-9b417a79e450",
   "metadata": {},
   "source": [
    "## Arithmetic Operators"
   ]
  },
  {
   "cell_type": "code",
   "execution_count": null,
   "id": "a8465c78-7289-4c0b-9b65-24b0e5866f54",
   "metadata": {},
   "outputs": [],
   "source": [
    "1 + 2 "
   ]
  },
  {
   "cell_type": "code",
   "execution_count": null,
   "id": "edfd5e94-bda3-4b7e-bf94-cee70023d260",
   "metadata": {},
   "outputs": [],
   "source": [
    "3 - 5 "
   ]
  },
  {
   "cell_type": "code",
   "execution_count": null,
   "id": "b4567995-794d-44a4-af3b-df264af81a08",
   "metadata": {},
   "outputs": [],
   "source": [
    "15 / 3"
   ]
  },
  {
   "cell_type": "code",
   "execution_count": null,
   "id": "db0f422c-5b88-411c-b850-637352d7c6b4",
   "metadata": {},
   "outputs": [],
   "source": [
    "16 / 3"
   ]
  },
  {
   "cell_type": "code",
   "execution_count": null,
   "id": "10b50bd5-1b2e-4c77-92ec-c7530be25970",
   "metadata": {},
   "outputs": [],
   "source": [
    "16 // 3"
   ]
  },
  {
   "cell_type": "code",
   "execution_count": null,
   "id": "a271d3a6-5c42-4d1c-9f64-03fa77f2d7e3",
   "metadata": {},
   "outputs": [],
   "source": [
    "16 % 3"
   ]
  },
  {
   "cell_type": "code",
   "execution_count": null,
   "id": "a7a13d31-c08a-47c9-8722-eea9209ce4c5",
   "metadata": {},
   "outputs": [],
   "source": [
    "5 * 3"
   ]
  },
  {
   "cell_type": "code",
   "execution_count": null,
   "id": "1ff2b44c-8ce4-4c85-8056-1ee02f3e7124",
   "metadata": {},
   "outputs": [],
   "source": [
    "x = 5 * 3"
   ]
  },
  {
   "cell_type": "code",
   "execution_count": null,
   "id": "99341bfd-7e41-4b02-8cc2-2b13dcb426ec",
   "metadata": {},
   "outputs": [],
   "source": [
    "x"
   ]
  },
  {
   "cell_type": "code",
   "execution_count": null,
   "id": "8eda493b-80dd-45ce-a072-91ff832f3a1c",
   "metadata": {},
   "outputs": [],
   "source": [
    "5 ** 3"
   ]
  },
  {
   "cell_type": "markdown",
   "id": "cf433e14-2bed-4d71-bf9b-755011bc7ca8",
   "metadata": {},
   "source": [
    "## Double Equality Sign"
   ]
  },
  {
   "cell_type": "code",
   "execution_count": null,
   "id": "8a4860f9-90ce-43e0-bb67-7c431b6899f5",
   "metadata": {},
   "outputs": [],
   "source": [
    "y = 5 ** 3"
   ]
  },
  {
   "cell_type": "code",
   "execution_count": null,
   "id": "551357c7-5ede-491f-8a5a-13df963e762b",
   "metadata": {},
   "outputs": [],
   "source": [
    "y"
   ]
  },
  {
   "cell_type": "code",
   "execution_count": null,
   "id": "f4667565-cd5e-45ba-a843-64e94c2bb963",
   "metadata": {},
   "outputs": [],
   "source": [
    "y == 125 "
   ]
  },
  {
   "cell_type": "code",
   "execution_count": null,
   "id": "7d42e6df-468d-4d3b-9d0e-12174d3dcdc8",
   "metadata": {},
   "outputs": [],
   "source": [
    "y == 126"
   ]
  },
  {
   "cell_type": "markdown",
   "id": "542f2ae1-bc6f-4d8f-a877-34d6d9148e12",
   "metadata": {},
   "source": [
    "## Reassign Values"
   ]
  },
  {
   "cell_type": "code",
   "execution_count": null,
   "id": "154d680f-5223-44e7-91b5-2c717102ce0c",
   "metadata": {},
   "outputs": [],
   "source": [
    "z = 1\n",
    "z"
   ]
  },
  {
   "cell_type": "code",
   "execution_count": null,
   "id": "00865bee-a927-4308-acbe-9b9a04af1d75",
   "metadata": {},
   "outputs": [],
   "source": [
    "z = 3\n",
    "z"
   ]
  },
  {
   "cell_type": "code",
   "execution_count": null,
   "id": "32ef24fd-05bb-48d6-8bf6-380a2b57f10e",
   "metadata": {},
   "outputs": [],
   "source": [
    "z + 5 "
   ]
  },
  {
   "cell_type": "code",
   "execution_count": null,
   "id": "c1beeb7a-e8af-412c-a851-4edc09e582f3",
   "metadata": {},
   "outputs": [],
   "source": [
    "z = 7 \n",
    "z"
   ]
  },
  {
   "cell_type": "markdown",
   "id": "34ef801c-883c-4e14-845c-2031c3c2da14",
   "metadata": {},
   "source": [
    "## Add Comments"
   ]
  },
  {
   "cell_type": "code",
   "execution_count": null,
   "id": "3002e4e4-51aa-4942-803d-b2b096b22d05",
   "metadata": {},
   "outputs": [],
   "source": [
    "# This is just a comment\n",
    "print(7,2)"
   ]
  },
  {
   "cell_type": "code",
   "execution_count": null,
   "id": "e239c5ed-f31c-408f-bd3b-6737dae5b3e0",
   "metadata": {},
   "outputs": [],
   "source": [
    "# Comment 1\n",
    "# Comment 2\n",
    "print(300)"
   ]
  },
  {
   "cell_type": "markdown",
   "id": "5fe4ba01-9c76-4953-8353-c4bbd0010537",
   "metadata": {},
   "source": [
    "## Line Continuation"
   ]
  },
  {
   "cell_type": "code",
   "execution_count": null,
   "id": "f8326dd2-99d4-4f64-aac2-a5cdef5cd1fd",
   "metadata": {},
   "outputs": [],
   "source": [
    "2.0 * 1.5 + 5"
   ]
  },
  {
   "cell_type": "code",
   "execution_count": null,
   "id": "cda0d30b-aa1a-45b8-842f-23243a54149d",
   "metadata": {},
   "outputs": [],
   "source": [
    "2.0 * 1.5 + \\\n",
    "5"
   ]
  },
  {
   "cell_type": "markdown",
   "id": "098e89e1-cd78-4129-b321-41ffe082caf4",
   "metadata": {},
   "source": [
    "## Indexing Elements"
   ]
  },
  {
   "cell_type": "code",
   "execution_count": null,
   "id": "5d9b1385-cdf4-4a6c-bb6d-27ce023887b3",
   "metadata": {},
   "outputs": [],
   "source": [
    "'Friday'[3]"
   ]
  },
  {
   "cell_type": "markdown",
   "id": "027ec467-9e36-4b4b-b9de-12a9695f8d0d",
   "metadata": {},
   "source": [
    "## Indentation"
   ]
  },
  {
   "cell_type": "code",
   "execution_count": null,
   "id": "93ea9bd5-8676-4706-99dd-f76941683930",
   "metadata": {},
   "outputs": [],
   "source": [
    "def five(x):\n",
    "    x = 5\n",
    "    return x\n",
    "\n",
    "print(five(3))"
   ]
  },
  {
   "cell_type": "markdown",
   "id": "15e9e1b9-828c-4709-8027-e8053b6f319a",
   "metadata": {},
   "source": [
    "## Comparison Operators"
   ]
  },
  {
   "cell_type": "code",
   "execution_count": null,
   "id": "0c082578-59c4-4265-b1c0-938e6904e13a",
   "metadata": {},
   "outputs": [],
   "source": [
    "10 == 20 / 2"
   ]
  },
  {
   "cell_type": "code",
   "execution_count": null,
   "id": "e8e9bda6-78ec-47dd-9e6c-1cfd475c06dd",
   "metadata": {},
   "outputs": [],
   "source": [
    "10 != 10"
   ]
  },
  {
   "cell_type": "code",
   "execution_count": null,
   "id": "edc7c43a-d178-4e11-9e2c-85cb360f92e2",
   "metadata": {},
   "outputs": [],
   "source": [
    "10 != 15"
   ]
  },
  {
   "cell_type": "code",
   "execution_count": null,
   "id": "4f7304c1-e3ee-455e-b0e4-23cf66d947aa",
   "metadata": {},
   "outputs": [],
   "source": [
    "100 > 50"
   ]
  },
  {
   "cell_type": "code",
   "execution_count": null,
   "id": "9b072cf6-2e4b-49d1-b38f-9bb0efb2579b",
   "metadata": {},
   "outputs": [],
   "source": [
    "100 < 50"
   ]
  },
  {
   "cell_type": "code",
   "execution_count": null,
   "id": "f9fa0d92-3c62-4cdc-a1c8-cd4bfca4d25d",
   "metadata": {},
   "outputs": [],
   "source": [
    "15 >= 10 + 10"
   ]
  },
  {
   "cell_type": "code",
   "execution_count": null,
   "id": "17ef5bf4-83e5-4a16-bc93-0d22debf523f",
   "metadata": {},
   "outputs": [],
   "source": [
    "15 <= 10 + 5"
   ]
  },
  {
   "cell_type": "markdown",
   "id": "46fbb83d-e9c9-485b-adf7-cf9313d6fc7f",
   "metadata": {},
   "source": [
    "## Logical and Identity Operators"
   ]
  },
  {
   "cell_type": "markdown",
   "id": "0fb85e61-cdec-48ec-bb75-08cd925b6fdb",
   "metadata": {},
   "source": [
    "### Order of priority : NOT - AND - OR"
   ]
  },
  {
   "cell_type": "code",
   "execution_count": null,
   "id": "7bfdee4a-4c43-48fe-9b63-aabe2ee76ba4",
   "metadata": {},
   "outputs": [],
   "source": [
    "True and True"
   ]
  },
  {
   "cell_type": "code",
   "execution_count": null,
   "id": "3d3a4455-840e-4c38-8909-2ae0a446436b",
   "metadata": {},
   "outputs": [],
   "source": [
    "True and False"
   ]
  },
  {
   "cell_type": "code",
   "execution_count": null,
   "id": "ffad67c9-8354-4e16-92d9-9a8413ba9a9b",
   "metadata": {},
   "outputs": [],
   "source": [
    "False and False"
   ]
  },
  {
   "cell_type": "code",
   "execution_count": null,
   "id": "98624c40-0738-4e82-a8e9-874f79c95bde",
   "metadata": {},
   "outputs": [],
   "source": [
    "False or False"
   ]
  },
  {
   "cell_type": "code",
   "execution_count": null,
   "id": "addca98d-cac3-49e8-8b0e-ddc98d6ef301",
   "metadata": {},
   "outputs": [],
   "source": [
    "True or True"
   ]
  },
  {
   "cell_type": "code",
   "execution_count": null,
   "id": "0f63a35d-d4d7-4b56-8641-7e0a781b7445",
   "metadata": {},
   "outputs": [],
   "source": [
    "True or False"
   ]
  },
  {
   "cell_type": "code",
   "execution_count": null,
   "id": "fe21fef6-8958-4688-8af6-5459c94ae5b7",
   "metadata": {},
   "outputs": [],
   "source": [
    "False or True"
   ]
  },
  {
   "cell_type": "code",
   "execution_count": null,
   "id": "994d52ae-f916-4cad-a0e1-b2bd70cf75d6",
   "metadata": {},
   "outputs": [],
   "source": [
    "not True"
   ]
  },
  {
   "cell_type": "code",
   "execution_count": null,
   "id": "beb9511a-beab-482c-9b66-eda90c5b49cf",
   "metadata": {},
   "outputs": [],
   "source": [
    "not False"
   ]
  },
  {
   "cell_type": "code",
   "execution_count": null,
   "id": "9c26b5d4-9913-47a6-9ac4-b2d807719938",
   "metadata": {},
   "outputs": [],
   "source": [
    "3 > 5 and 10 <= 20"
   ]
  },
  {
   "cell_type": "markdown",
   "id": "ff3f07be-56a1-48ff-95d7-3e74929929d7",
   "metadata": {},
   "source": [
    "### Identity Operators"
   ]
  },
  {
   "cell_type": "code",
   "execution_count": null,
   "id": "193dc65c-bf87-44c8-83b4-c648dfd427d6",
   "metadata": {},
   "outputs": [],
   "source": [
    "# 5 is 6"
   ]
  },
  {
   "cell_type": "code",
   "execution_count": null,
   "id": "d188aa22-9914-4c0f-9f69-164ec527c13a",
   "metadata": {},
   "outputs": [],
   "source": [
    "# 5 is not 6"
   ]
  },
  {
   "cell_type": "markdown",
   "id": "a0998f3e-512f-4e79-a0ac-721ae8fc24a7",
   "metadata": {},
   "source": [
    "## If Statement"
   ]
  },
  {
   "cell_type": "code",
   "execution_count": null,
   "id": "0173ab47-09c5-4a89-81ea-205e04d31dbc",
   "metadata": {},
   "outputs": [],
   "source": [
    "if 5 == 15 / 3:\n",
    "    print(\"Hooray!\")"
   ]
  },
  {
   "cell_type": "code",
   "execution_count": null,
   "id": "cad7f072-a66e-418e-ae77-2b49740d56ef",
   "metadata": {},
   "outputs": [],
   "source": [
    "if 5 == 18 / 3:\n",
    "    print(\"Hooray!\")"
   ]
  },
  {
   "cell_type": "code",
   "execution_count": null,
   "id": "f24cb588-35dc-41e3-a7e1-8709bb15d954",
   "metadata": {},
   "outputs": [],
   "source": [
    "if 5 != 3 * 6:\n",
    "    print(\"Hooray!\")"
   ]
  },
  {
   "cell_type": "markdown",
   "id": "cfde92e8-3038-46a4-a229-57b057dd0e79",
   "metadata": {},
   "source": [
    "## Else Statement"
   ]
  },
  {
   "cell_type": "code",
   "execution_count": null,
   "id": "5ec2a46a-e8a5-4c3e-846a-678fd10262c4",
   "metadata": {},
   "outputs": [],
   "source": [
    "x = 1\n",
    "\n",
    "if x > 3:\n",
    "    print(\"Case 1\")\n",
    "else:\n",
    "    print(\"Case 2\")"
   ]
  },
  {
   "cell_type": "markdown",
   "id": "59d18698-f9cb-4d58-ad91-3ee43e120f21",
   "metadata": {},
   "source": [
    "## Else if - Elif"
   ]
  },
  {
   "cell_type": "code",
   "execution_count": null,
   "id": "2e764207-c207-464f-b1e7-7f59394ba0da",
   "metadata": {},
   "outputs": [],
   "source": [
    "def compare_to_five(y):\n",
    "    if y > 5:\n",
    "        return \"Greater\"\n",
    "    elif y < 0:\n",
    "        return \"Negative\"\n",
    "    elif y < 5:\n",
    "        return \"Less\"\n",
    "    else:\n",
    "        return \"Equal\""
   ]
  },
  {
   "cell_type": "code",
   "execution_count": null,
   "id": "fdaabbb8-106e-41cf-9206-7d1f56fb9812",
   "metadata": {},
   "outputs": [],
   "source": [
    "print(compare_to_five(10))"
   ]
  },
  {
   "cell_type": "code",
   "execution_count": null,
   "id": "e6596555-4c3e-46cd-aaaf-a9910a073405",
   "metadata": {},
   "outputs": [],
   "source": [
    "print(compare_to_five(2))"
   ]
  },
  {
   "cell_type": "code",
   "execution_count": null,
   "id": "187b405f-7ea6-48bd-8d2f-e11cd358bd9e",
   "metadata": {},
   "outputs": [],
   "source": [
    "print(compare_to_five(5))"
   ]
  },
  {
   "cell_type": "code",
   "execution_count": null,
   "id": "e4695bb9-73bc-45a3-bb52-b843e7a20aa7",
   "metadata": {},
   "outputs": [],
   "source": [
    "print(compare_to_five(-3))"
   ]
  },
  {
   "cell_type": "markdown",
   "id": "9d6c4d5d-c0cd-418f-a262-769d383c4049",
   "metadata": {},
   "source": [
    "## Defining a function"
   ]
  },
  {
   "cell_type": "code",
   "execution_count": null,
   "id": "79bc3cbe-5aad-46e1-bf6d-605d7ced9bc6",
   "metadata": {},
   "outputs": [],
   "source": [
    "def simple():\n",
    "    print(\"My first function\")"
   ]
  },
  {
   "cell_type": "code",
   "execution_count": null,
   "id": "f865c339-4248-48db-982d-848773733154",
   "metadata": {},
   "outputs": [],
   "source": [
    "simple()"
   ]
  },
  {
   "cell_type": "code",
   "execution_count": null,
   "id": "7669127f-16c6-4173-b664-b6fb4f136268",
   "metadata": {},
   "outputs": [],
   "source": [
    "def plus_ten(a):\n",
    "    return a + 10"
   ]
  },
  {
   "cell_type": "code",
   "execution_count": null,
   "id": "fc0772d9-2e01-4286-8d1e-847ee8752851",
   "metadata": {},
   "outputs": [],
   "source": [
    "plus_ten(2)"
   ]
  },
  {
   "cell_type": "code",
   "execution_count": null,
   "id": "4df4d737-8d30-4656-a812-d9900e0747b1",
   "metadata": {},
   "outputs": [],
   "source": [
    "plus_ten(5)"
   ]
  },
  {
   "cell_type": "code",
   "execution_count": null,
   "id": "d9502258-a7b7-446e-bcd7-fd2fa9c3d4ae",
   "metadata": {},
   "outputs": [],
   "source": [
    "def plus_ten(a):\n",
    "    result = a + 10\n",
    "    return result"
   ]
  },
  {
   "cell_type": "code",
   "execution_count": null,
   "id": "cc434b05-3de1-4138-a73c-16007bf3cab2",
   "metadata": {},
   "outputs": [],
   "source": [
    "plus_ten(2)"
   ]
  },
  {
   "cell_type": "markdown",
   "id": "641b3b3f-d5a0-4c5e-aa4f-5eede6482b21",
   "metadata": {},
   "source": [
    "## Conditional Statements and Functions"
   ]
  },
  {
   "cell_type": "code",
   "execution_count": null,
   "id": "e3bdbbc7-71f7-4534-9cb6-8a5e633e99bf",
   "metadata": {},
   "outputs": [],
   "source": [
    "def add_ten(m):\n",
    "    if m >= 100:\n",
    "        m += 10\n",
    "        return m\n",
    "    else:\n",
    "        return \"Save more!\""
   ]
  },
  {
   "cell_type": "code",
   "execution_count": null,
   "id": "662b09c6-01a6-4fc3-8352-5c1b2a0684d9",
   "metadata": {},
   "outputs": [],
   "source": [
    "add_ten(110)"
   ]
  },
  {
   "cell_type": "code",
   "execution_count": null,
   "id": "4a3bd548-d148-4f29-bf83-f22f8b09eb54",
   "metadata": {},
   "outputs": [],
   "source": [
    "add_ten(50)"
   ]
  },
  {
   "cell_type": "markdown",
   "id": "64407d01-1a02-43de-9fcb-f30f81d384ed",
   "metadata": {},
   "source": [
    "## Functions with multiple arguments"
   ]
  },
  {
   "cell_type": "code",
   "execution_count": null,
   "id": "cf39d6e0-11af-4016-94a1-0bea6ae2a698",
   "metadata": {},
   "outputs": [],
   "source": [
    "def substract_bc(a, b, c):\n",
    "    result = a - b * c\n",
    "    print(\"Parameter a =\", a)\n",
    "    print(\"Parameter b =\", b)\n",
    "    print(\"Parameter c =\", c)\n",
    "    return result"
   ]
  },
  {
   "cell_type": "code",
   "execution_count": null,
   "id": "59f38c91-a1d6-4b68-ae53-ec1ac0ef1d18",
   "metadata": {},
   "outputs": [],
   "source": [
    "substract_bc(10, 2, 3)"
   ]
  },
  {
   "cell_type": "code",
   "execution_count": null,
   "id": "b185d9fe-6802-4137-9a4a-6b15350b5671",
   "metadata": {},
   "outputs": [],
   "source": [
    "substract_bc(c=3, b=2, a=10)"
   ]
  },
  {
   "cell_type": "markdown",
   "id": "d47cfe98-0835-4ada-8284-908be260e598",
   "metadata": {},
   "source": [
    "## Notable Built-in Functions"
   ]
  },
  {
   "cell_type": "code",
   "execution_count": null,
   "id": "ad0f931e-e955-42fc-acdc-4ee7191a09f1",
   "metadata": {},
   "outputs": [],
   "source": [
    "type(10)"
   ]
  },
  {
   "cell_type": "code",
   "execution_count": null,
   "id": "5fa63063-b5bb-47fd-a7e2-b95950a1079d",
   "metadata": {},
   "outputs": [],
   "source": [
    "type(int(5.0))"
   ]
  },
  {
   "cell_type": "code",
   "execution_count": null,
   "id": "083eca23-c686-4b89-80ec-196f25cd1db6",
   "metadata": {},
   "outputs": [],
   "source": [
    "type(str(500))"
   ]
  },
  {
   "cell_type": "code",
   "execution_count": null,
   "id": "f0a5c3ed-c6d9-45b8-be0c-28d30a0f4403",
   "metadata": {},
   "outputs": [],
   "source": [
    "max(10, 20, 30)"
   ]
  },
  {
   "cell_type": "code",
   "execution_count": null,
   "id": "66ed93ec-679b-456c-ba1e-18c3a93d7216",
   "metadata": {},
   "outputs": [],
   "source": [
    "min(10, 20, 30)"
   ]
  },
  {
   "cell_type": "code",
   "execution_count": null,
   "id": "6d1c33ce-79d9-43e1-a3d0-6056238c1c8c",
   "metadata": {},
   "outputs": [],
   "source": [
    "abs(-100)"
   ]
  },
  {
   "cell_type": "code",
   "execution_count": null,
   "id": "43b1439f-5c8a-4889-b0bd-7f3ad2d06d49",
   "metadata": {},
   "outputs": [],
   "source": [
    "list_1 = [1, 2, 3, 4]\n",
    "sum(list_1)"
   ]
  },
  {
   "cell_type": "code",
   "execution_count": null,
   "id": "aa49b8c1-11e4-4dbf-843a-c2331e368623",
   "metadata": {},
   "outputs": [],
   "source": [
    "round(3.555, 2)"
   ]
  },
  {
   "cell_type": "code",
   "execution_count": null,
   "id": "34c4b455-7580-4272-9619-7a86ce98337e",
   "metadata": {},
   "outputs": [],
   "source": [
    "round(3.55)"
   ]
  },
  {
   "cell_type": "code",
   "execution_count": null,
   "id": "12dc3bb4-7b76-476c-9c3a-4098a2de0810",
   "metadata": {},
   "outputs": [],
   "source": [
    "2 ** 10"
   ]
  },
  {
   "cell_type": "code",
   "execution_count": null,
   "id": "1f8ab2d3-d135-4b80-b02f-eaa9e201b529",
   "metadata": {},
   "outputs": [],
   "source": [
    "pow(2, 10)"
   ]
  },
  {
   "cell_type": "code",
   "execution_count": null,
   "id": "e2ed5053-0a05-4bb2-9dc2-80de299cc2b5",
   "metadata": {},
   "outputs": [],
   "source": [
    "len(\"Hello\")"
   ]
  },
  {
   "cell_type": "markdown",
   "id": "7773a472-1a70-4795-8494-f84de5a2db7a",
   "metadata": {},
   "source": [
    "## Lists"
   ]
  },
  {
   "cell_type": "code",
   "execution_count": null,
   "id": "9ab49617-6fbd-4df1-8c03-5441220ae916",
   "metadata": {},
   "outputs": [],
   "source": [
    "participants = [\"John\", \"Leila\", \"Gregory\", \"Cate\"]\n",
    "participants"
   ]
  },
  {
   "cell_type": "code",
   "execution_count": null,
   "id": "e7b76dc8-6101-4af0-ab5b-780f12e18ffd",
   "metadata": {},
   "outputs": [],
   "source": [
    "participants[1]"
   ]
  },
  {
   "cell_type": "code",
   "execution_count": null,
   "id": "e399d9ee-48b8-4a24-bf52-b7f1fd8c78fd",
   "metadata": {},
   "outputs": [],
   "source": [
    "participants[-1]"
   ]
  },
  {
   "cell_type": "code",
   "execution_count": null,
   "id": "9e5b2d11-fc76-4077-89da-926827ddd00a",
   "metadata": {},
   "outputs": [],
   "source": [
    "participants[-2]"
   ]
  },
  {
   "cell_type": "code",
   "execution_count": null,
   "id": "9fd08f86-5818-4804-aa48-b46a1729d870",
   "metadata": {},
   "outputs": [],
   "source": [
    "participants[-1] = \"Maria\""
   ]
  },
  {
   "cell_type": "code",
   "execution_count": null,
   "id": "027c1c50-7169-4e89-9928-ff7dc70d6f2c",
   "metadata": {},
   "outputs": [],
   "source": [
    "participants"
   ]
  },
  {
   "cell_type": "code",
   "execution_count": null,
   "id": "be987de4-62e1-41a8-8ca8-fe4e265ac545",
   "metadata": {},
   "outputs": [],
   "source": [
    "del participants[2]\n",
    "participants"
   ]
  },
  {
   "cell_type": "markdown",
   "id": "752dfe1c-b9a7-4766-9900-7d6e9b28b26f",
   "metadata": {},
   "source": [
    "## List Methods"
   ]
  },
  {
   "cell_type": "code",
   "execution_count": null,
   "id": "37dfb53e-ff7a-4e2e-aac7-dfbf9d95e600",
   "metadata": {},
   "outputs": [],
   "source": [
    "participants.append('Dwayne')\n",
    "participants"
   ]
  },
  {
   "cell_type": "code",
   "execution_count": null,
   "id": "d08e8597-e727-452c-9f9b-35f743d33d70",
   "metadata": {},
   "outputs": [],
   "source": [
    "participants.extend([\"George\", \"Catherine\"])\n",
    "participants"
   ]
  },
  {
   "cell_type": "code",
   "execution_count": null,
   "id": "f22701be-250f-434f-812f-01cd6ca81086",
   "metadata": {},
   "outputs": [],
   "source": [
    "print(f\"The first participant is {participants[0]}\")"
   ]
  },
  {
   "cell_type": "code",
   "execution_count": null,
   "id": "829540ad-1c51-47a8-8cce-3712698e3ba1",
   "metadata": {},
   "outputs": [],
   "source": [
    "len('Dolphin')"
   ]
  },
  {
   "cell_type": "code",
   "execution_count": null,
   "id": "4e9494dc-d395-4811-bdc5-8625a177caad",
   "metadata": {},
   "outputs": [],
   "source": [
    "len(participants)"
   ]
  },
  {
   "cell_type": "markdown",
   "id": "5a5c1353-56e1-4375-9b76-c441c5da53f9",
   "metadata": {},
   "source": [
    "## List Slicing"
   ]
  },
  {
   "cell_type": "code",
   "execution_count": null,
   "id": "5e90de6b-6a2d-4a0c-afba-f76e54ebb08c",
   "metadata": {},
   "outputs": [],
   "source": [
    "participants[1:3]"
   ]
  },
  {
   "cell_type": "code",
   "execution_count": null,
   "id": "26516737-9ac9-4a70-84d9-d7fc41cc7186",
   "metadata": {},
   "outputs": [],
   "source": [
    "participants[:2]"
   ]
  },
  {
   "cell_type": "code",
   "execution_count": null,
   "id": "fa7204e8-4f58-416e-a468-7a49a8a91b0c",
   "metadata": {},
   "outputs": [],
   "source": [
    "participants[-2:]"
   ]
  },
  {
   "cell_type": "code",
   "execution_count": null,
   "id": "78052d09-32d2-4001-9132-0ef3241b3fbd",
   "metadata": {},
   "outputs": [],
   "source": [
    "participants.index(\"Maria\")"
   ]
  },
  {
   "cell_type": "code",
   "execution_count": null,
   "id": "7c58bfcd-9f66-41f5-8a8b-db05d5fd7427",
   "metadata": {},
   "outputs": [],
   "source": [
    "newcomers = [\"Joshua\", \"Brittany\"]\n",
    "bigger_list = [participants, newcomers]\n",
    "bigger_list"
   ]
  },
  {
   "cell_type": "code",
   "execution_count": null,
   "id": "06eaa3c8-f68d-47ce-91f6-b9aca3a838c7",
   "metadata": {},
   "outputs": [],
   "source": [
    "participants.sort()\n",
    "participants"
   ]
  },
  {
   "cell_type": "code",
   "execution_count": null,
   "id": "687bb0e2-2a38-4d33-aef6-b7701e4d265a",
   "metadata": {},
   "outputs": [],
   "source": [
    "participants.sort(reverse=True)\n",
    "participants"
   ]
  },
  {
   "cell_type": "markdown",
   "id": "33cf0a34-e1ab-45d0-bf7b-591251a04218",
   "metadata": {},
   "source": [
    "## Tuples"
   ]
  },
  {
   "cell_type": "markdown",
   "id": "53c3141e-a499-4242-bab0-0913a2b34bfa",
   "metadata": {},
   "source": [
    "Tuples are immutables, ande the default sequence value in Python"
   ]
  },
  {
   "cell_type": "code",
   "execution_count": null,
   "id": "48fdc19c-a6a9-42d4-89ce-021bb31c1a3f",
   "metadata": {},
   "outputs": [],
   "source": [
    "x = (40, 41, 42)\n",
    "x"
   ]
  },
  {
   "cell_type": "code",
   "execution_count": null,
   "id": "80639da3-d28c-495c-b0a8-d7d6f1af3b41",
   "metadata": {},
   "outputs": [],
   "source": [
    "y = 50, 51, 52\n",
    "y"
   ]
  },
  {
   "cell_type": "code",
   "execution_count": null,
   "id": "c05fdb69-6dd6-437a-847b-90218191da01",
   "metadata": {},
   "outputs": [],
   "source": [
    "a, b, c = 1, 4, 6\n",
    "c"
   ]
  },
  {
   "cell_type": "code",
   "execution_count": null,
   "id": "f95a095a-9c27-4833-86c3-670b0642f675",
   "metadata": {},
   "outputs": [],
   "source": [
    "x[0]"
   ]
  },
  {
   "cell_type": "code",
   "execution_count": null,
   "id": "7916fe89-42e6-40cd-a142-62c82a146467",
   "metadata": {},
   "outputs": [],
   "source": [
    "list_1 =[x, y]\n",
    "list_1"
   ]
  },
  {
   "cell_type": "code",
   "execution_count": null,
   "id": "2ab0376a-a8e5-4311-9efa-9738e6aaee32",
   "metadata": {},
   "outputs": [],
   "source": [
    "(age, years_of_school) = \"30,17\".split(\",\")\n",
    "age"
   ]
  },
  {
   "cell_type": "code",
   "execution_count": null,
   "id": "94c3bee0-9f39-42b9-b298-9370b86f5931",
   "metadata": {},
   "outputs": [],
   "source": [
    "def square_info(x):\n",
    "    A = x ** 2\n",
    "    P = 4 * x\n",
    "    print(\"Area and Perimeter: \")\n",
    "    return A,P"
   ]
  },
  {
   "cell_type": "code",
   "execution_count": null,
   "id": "b8b6c5d8-9587-423d-acad-7a31051119f6",
   "metadata": {},
   "outputs": [],
   "source": [
    "square_info(3)"
   ]
  },
  {
   "cell_type": "markdown",
   "id": "69826fce-7aea-4b8d-ace6-7615c353d8ca",
   "metadata": {},
   "source": [
    "## Dictionaries"
   ]
  },
  {
   "cell_type": "code",
   "execution_count": null,
   "id": "dd589b82-5aa7-49d8-87e4-3eba1590bc56",
   "metadata": {},
   "outputs": [],
   "source": [
    "dict = {'k1':'cat', 'k2':'dog', 'k3':'mouse', 'k4':'fish'}\n",
    "dict"
   ]
  },
  {
   "cell_type": "code",
   "execution_count": null,
   "id": "5ab44da1-92d0-47cc-9ee1-44e4dc833713",
   "metadata": {},
   "outputs": [],
   "source": [
    "dict['k1']"
   ]
  },
  {
   "cell_type": "code",
   "execution_count": null,
   "id": "b8fc32bf-ba66-41ec-995f-1056ff3614a1",
   "metadata": {},
   "outputs": [],
   "source": [
    "dict['k3']"
   ]
  },
  {
   "cell_type": "code",
   "execution_count": null,
   "id": "28e61af9-dd92-4113-bd56-4d076a5200f7",
   "metadata": {},
   "outputs": [],
   "source": [
    "dict['k5'] = 'parrot'\n",
    "dict"
   ]
  },
  {
   "cell_type": "code",
   "execution_count": null,
   "id": "e8e191bb-8cfc-4396-bc39-650e993804ad",
   "metadata": {},
   "outputs": [],
   "source": [
    "dict['k2'] = 'squirrel'\n",
    "dict"
   ]
  },
  {
   "cell_type": "code",
   "execution_count": null,
   "id": "32fd6dd5-7d13-4dc1-a08c-b16ea378cc5f",
   "metadata": {},
   "outputs": [],
   "source": [
    "print(dict.get('k2'))"
   ]
  },
  {
   "cell_type": "code",
   "execution_count": null,
   "id": "3822b6b5-279c-495b-988b-20f56bfc324c",
   "metadata": {},
   "outputs": [],
   "source": [
    "print(dict.get('k10'))"
   ]
  },
  {
   "cell_type": "markdown",
   "id": "920fb380-bd0c-40c5-a797-606fdd381a72",
   "metadata": {},
   "source": [
    "## For Loops"
   ]
  },
  {
   "cell_type": "code",
   "execution_count": null,
   "id": "b8adb5bf-7554-4296-aeb7-45a5efee24cd",
   "metadata": {},
   "outputs": [],
   "source": [
    "even = [0, 2, 4, 6, 8, 10, 12, 14, 16, 18, 20]"
   ]
  },
  {
   "cell_type": "code",
   "execution_count": null,
   "id": "a01b594a-26f8-4967-82cf-acc604732cb0",
   "metadata": {},
   "outputs": [],
   "source": [
    "for n in even:\n",
    "    print(n)"
   ]
  },
  {
   "cell_type": "code",
   "execution_count": null,
   "id": "c3e1b113-155d-4c38-9bc2-9bf7af2bb300",
   "metadata": {},
   "outputs": [],
   "source": [
    "for n in even:\n",
    "    print(n, end = ' ')"
   ]
  },
  {
   "cell_type": "markdown",
   "id": "afb47b7a-aee9-41ff-866d-1400e4aa1411",
   "metadata": {},
   "source": [
    "## While Loops and Incrementing"
   ]
  },
  {
   "cell_type": "code",
   "execution_count": null,
   "id": "a7cb9d32-f33c-4aa5-957c-e58d7944eb7c",
   "metadata": {},
   "outputs": [],
   "source": [
    "x = 0\n",
    "while x <= 20:\n",
    "    print(x, end=' ')\n",
    "    x += 2"
   ]
  },
  {
   "cell_type": "markdown",
   "id": "3d20b4ee-bac2-47bc-94af-e3ceb0cbf24c",
   "metadata": {},
   "source": [
    "## Range Function"
   ]
  },
  {
   "cell_type": "code",
   "execution_count": null,
   "id": "e354d607-0f3a-49d4-b735-cfa8a8c785f2",
   "metadata": {},
   "outputs": [],
   "source": [
    "range(10)"
   ]
  },
  {
   "cell_type": "code",
   "execution_count": null,
   "id": "7489bda0-fbaa-4d3e-9f61-a5c5df2ce197",
   "metadata": {},
   "outputs": [],
   "source": [
    "list(range(10))"
   ]
  },
  {
   "cell_type": "code",
   "execution_count": null,
   "id": "f1444e66-f393-45cb-8da3-dd8af72723a3",
   "metadata": {},
   "outputs": [],
   "source": [
    "range(3, 7)"
   ]
  },
  {
   "cell_type": "code",
   "execution_count": null,
   "id": "ebaf8fb8-eb95-456c-aef2-5286bd2fe0c7",
   "metadata": {},
   "outputs": [],
   "source": [
    "list(range(3, 7))"
   ]
  },
  {
   "cell_type": "code",
   "execution_count": null,
   "id": "7f05a776-e333-46b6-af96-dad9eb07ee0d",
   "metadata": {},
   "outputs": [],
   "source": [
    "range(1, 20, 2)"
   ]
  },
  {
   "cell_type": "code",
   "execution_count": null,
   "id": "2dbfc6cc-7826-4914-865d-10485008083e",
   "metadata": {},
   "outputs": [],
   "source": [
    "list(range(1, 20, 2))"
   ]
  },
  {
   "cell_type": "markdown",
   "id": "ad0518cd-5494-4045-a5c7-45125c36e068",
   "metadata": {},
   "source": [
    "## Conditionals and Loops"
   ]
  },
  {
   "cell_type": "code",
   "execution_count": null,
   "id": "b654549b-fc22-4377-8d42-d3aabfdd2f15",
   "metadata": {},
   "outputs": [],
   "source": [
    "for n in range(10):\n",
    "    print(2 ** n, end=' ')"
   ]
  },
  {
   "cell_type": "code",
   "execution_count": null,
   "id": "aaa02194-7d70-424d-849b-ffc0f388e462",
   "metadata": {},
   "outputs": [],
   "source": [
    "for x in range(20):\n",
    "    print(x, end=' ') if x % 2 == 0 else print('odd', end=' ') "
   ]
  },
  {
   "cell_type": "code",
   "execution_count": null,
   "id": "504e9021-9749-401c-b867-7ede57486080",
   "metadata": {},
   "outputs": [],
   "source": [
    "x = [0, 1, 2]"
   ]
  },
  {
   "cell_type": "code",
   "execution_count": null,
   "id": "aeeedca8-3dcd-4048-a583-06770d9f3ff2",
   "metadata": {},
   "outputs": [],
   "source": [
    "for item in x:\n",
    "    print(item, end=' ')"
   ]
  },
  {
   "cell_type": "code",
   "execution_count": null,
   "id": "1652a042-8154-47a6-a069-8b57eee87f70",
   "metadata": {},
   "outputs": [],
   "source": [
    "for item in range(len(x)):\n",
    "    print(x[item], end= ' ')"
   ]
  },
  {
   "cell_type": "code",
   "execution_count": null,
   "id": "d1fbb238-4495-49cc-ba46-d04e060f67c9",
   "metadata": {},
   "outputs": [],
   "source": [
    "def count(numbers):\n",
    "    total = 0\n",
    "    for x in numbers:\n",
    "        if x < 20:\n",
    "            total += 1\n",
    "    return total"
   ]
  },
  {
   "cell_type": "code",
   "execution_count": null,
   "id": "ee7030fb-496a-45c2-a6f9-480eeeccfcc9",
   "metadata": {},
   "outputs": [],
   "source": [
    "list_1 = [1, 3, 7, 15, 17, 23, 45, 98]"
   ]
  },
  {
   "cell_type": "code",
   "execution_count": null,
   "id": "8b2cf413-597d-4748-88b8-58634e34fde3",
   "metadata": {},
   "outputs": [],
   "source": [
    "count(list_1)"
   ]
  },
  {
   "cell_type": "markdown",
   "id": "6d83f68e-95e0-4aff-9f5e-2a3c869b2713",
   "metadata": {},
   "source": [
    "## Iteration over Dictionaries"
   ]
  },
  {
   "cell_type": "code",
   "execution_count": null,
   "id": "977735b5-5973-40e4-b899-0e9ba90d6ea6",
   "metadata": {},
   "outputs": [],
   "source": [
    "prices = {\n",
    "    \"box_of_spaghetti\": 4,\n",
    "    \"lasagna\": 5,\n",
    "    \"hamburger\": 2\n",
    "}\n",
    "quantity = {\n",
    "    \"box_of_spaghetti\": 6,\n",
    "    \"lasagna\": 10,\n",
    "    \"hamburger\": 0\n",
    "}\n",
    "\n",
    "money_spent =  0\n",
    "\n",
    "for i in prices:\n",
    "    money_spent += (prices[i] * quantity[i])\n",
    "\n",
    "print(money_spent)"
   ]
  },
  {
   "cell_type": "markdown",
   "id": "a32c3f57-2bfa-44fb-bc22-89a7a698309f",
   "metadata": {},
   "source": [
    "## Importing Modules"
   ]
  },
  {
   "cell_type": "code",
   "execution_count": null,
   "id": "f6d1c364-5a5d-4047-8afe-a4e503ee95cd",
   "metadata": {},
   "outputs": [],
   "source": [
    "import math"
   ]
  },
  {
   "cell_type": "code",
   "execution_count": null,
   "id": "07d0125b-61fa-4c92-9880-74a11b808c45",
   "metadata": {},
   "outputs": [],
   "source": [
    "math.sqrt(16)"
   ]
  },
  {
   "cell_type": "code",
   "execution_count": null,
   "id": "6ebe369d-6152-4b24-974b-a0cdb7f3b8de",
   "metadata": {},
   "outputs": [],
   "source": [
    "from math import sqrt"
   ]
  },
  {
   "cell_type": "code",
   "execution_count": null,
   "id": "3e142102-02e9-49a6-a767-a3519d9742ec",
   "metadata": {},
   "outputs": [],
   "source": [
    "sqrt(25)"
   ]
  },
  {
   "cell_type": "code",
   "execution_count": null,
   "id": "693c9ef9-078a-40f4-ba19-dd3c90cdb8dc",
   "metadata": {},
   "outputs": [],
   "source": [
    "from math import sqrt as s"
   ]
  },
  {
   "cell_type": "code",
   "execution_count": null,
   "id": "be69ce59-29ee-4921-bf35-135044d8c3e3",
   "metadata": {},
   "outputs": [],
   "source": [
    "s(36)"
   ]
  },
  {
   "cell_type": "code",
   "execution_count": null,
   "id": "c4ebd0d9-1f09-4f8d-91e8-27b5edafe3f6",
   "metadata": {},
   "outputs": [],
   "source": [
    "import math as m"
   ]
  },
  {
   "cell_type": "code",
   "execution_count": null,
   "id": "905032e7-c455-4c8b-9ac4-15348e3bbbc7",
   "metadata": {},
   "outputs": [],
   "source": [
    "m.sqrt(49)"
   ]
  },
  {
   "cell_type": "code",
   "execution_count": null,
   "id": "59a6b8c4-e1bf-48fb-bf5c-d0ff1b3d5dee",
   "metadata": {},
   "outputs": [],
   "source": [
    "from math import *"
   ]
  },
  {
   "cell_type": "code",
   "execution_count": null,
   "id": "960f795e-b42f-48b1-b396-d916e6b4511d",
   "metadata": {},
   "outputs": [],
   "source": [
    "sqrt(64)"
   ]
  },
  {
   "cell_type": "code",
   "execution_count": null,
   "id": "3930e6d5-710b-42eb-a1ea-94b58c2b9151",
   "metadata": {},
   "outputs": [],
   "source": [
    "help(math)"
   ]
  },
  {
   "cell_type": "code",
   "execution_count": null,
   "id": "b7b43330-af3b-4e46-b21a-b53effbbe3c8",
   "metadata": {},
   "outputs": [],
   "source": [
    "help(math.sqrt)"
   ]
  }
 ],
 "metadata": {
  "kernelspec": {
   "display_name": "Python 3 (ipykernel)",
   "language": "python",
   "name": "python3"
  },
  "language_info": {
   "codemirror_mode": {
    "name": "ipython",
    "version": 3
   },
   "file_extension": ".py",
   "mimetype": "text/x-python",
   "name": "python",
   "nbconvert_exporter": "python",
   "pygments_lexer": "ipython3",
   "version": "3.11.7"
  }
 },
 "nbformat": 4,
 "nbformat_minor": 5
}
